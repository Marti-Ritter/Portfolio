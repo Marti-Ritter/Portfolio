{
 "cells": [
  {
   "cell_type": "markdown",
   "metadata": {
    "deletable": false,
    "editable": false,
    "nbgrader": {
     "checksum": "48770f8b5f5d3062d3badd51fcafc401",
     "grade": false,
     "grade_id": "cell-a6c4f74309fc2379",
     "locked": true,
     "schema_version": 1,
     "solution": false
    }
   },
   "source": [
    "# Assignment 4\n",
    "## Description\n",
    "In this assignment you must read in a file of metropolitan regions and associated sports teams from [assets/wikipedia_data.html](assets/wikipedia_data.html) and answer some questions about each metropolitan region. Each of these regions may have one or more teams from the \"Big 4\": NFL (football, in [assets/nfl.csv](assets/nfl.csv)), MLB (baseball, in [assets/mlb.csv](assets/mlb.csv)), NBA (basketball, in [assets/nba.csv](assets/nba.csv) or NHL (hockey, in [assets/nhl.csv](assets/nhl.csv)). Please keep in mind that all questions are from the perspective of the metropolitan region, and that this file is the \"source of authority\" for the location of a given sports team. Thus teams which are commonly known by a different area (e.g. \"Oakland Raiders\") need to be mapped into the metropolitan region given (e.g. San Francisco Bay Area). This will require some human data understanding outside of the data you've been given (e.g. you will have to hand-code some names, and might need to google to find out where teams are)!\n",
    "\n",
    "For each sport I would like you to answer the question: **what is the win/loss ratio's correlation with the population of the city it is in?** Win/Loss ratio refers to the number of wins over the number of wins plus the number of losses. Remember that to calculate the correlation with [`pearsonr`](https://docs.scipy.org/doc/scipy/reference/generated/scipy.stats.pearsonr.html), so you are going to send in two ordered lists of values, the populations from the wikipedia_data.html file and the win/loss ratio for a given sport in the same order. Average the win/loss ratios for those cities which have multiple teams of a single sport. Each sport is worth an equal amount in this assignment (20%\\*4=80%) of the grade for this assignment. You should only use data **from year 2018** for your analysis -- this is important!\n",
    "\n",
    "## Notes\n",
    "\n",
    "1. Do not include data about the MLS or CFL in any of the work you are doing, we're only interested in the Big 4 in this assignment.\n",
    "2. I highly suggest that you first tackle the four correlation questions in order, as they are all similar and worth the majority of grades for this assignment. This is by design!\n",
    "3. It's fair game to talk with peers about high level strategy as well as the relationship between metropolitan areas and sports teams. However, do not post code solving aspects of the assignment (including such as dictionaries mapping areas to teams, or regexes which will clean up names).\n",
    "4. There may be more teams than the assert statements test, remember to collapse multiple teams in one city into a single value!"
   ]
  },
  {
   "cell_type": "markdown",
   "metadata": {
    "deletable": false,
    "editable": false,
    "nbgrader": {
     "checksum": "369ff9ecf0ee04640574205cbc697f94",
     "grade": false,
     "grade_id": "cell-712b2b5da63d4505",
     "locked": true,
     "schema_version": 1,
     "solution": false
    }
   },
   "source": [
    "## Question 1\n",
    "For this question, calculate the win/loss ratio's correlation with the population of the city it is in for the **NHL** using **2018** data."
   ]
  },
  {
   "cell_type": "code",
   "execution_count": 14,
   "metadata": {
    "deletable": false,
    "nbgrader": {
     "checksum": "1cac4803b02502929f5b1612d48db2b5",
     "grade": false,
     "grade_id": "cell-69b16e4386e58030",
     "locked": false,
     "schema_version": 1,
     "solution": true
    }
   },
   "outputs": [],
   "source": [
    "import pandas as pd\n",
    "import numpy as np\n",
    "import scipy.stats as stats\n",
    "import re\n",
    "\n",
    "nhl_df=pd.read_csv(\"assets/nhl.csv\")\n",
    "cities=pd.read_html(\"assets/wikipedia_data.html\")[1]\n",
    "cities=cities.iloc[:-1,[0,3,5,6,7,8]]\n",
    "\n",
    "def nhl_correlation():\n",
    "    local_nhl = nhl_df.copy()\n",
    "    local_nhl = local_nhl[(~local_nhl[\"team\"].str.contains(\"Division\")) & (local_nhl[\"year\"].eq(2018))]\n",
    "    local_nhl[\"team\"] = local_nhl[\"team\"].str.replace(\"*\", \"\")\n",
    "    local_nhl[[\"W\", \"L\"]] = local_nhl[[\"W\", \"L\"]].astype(int)\n",
    "    local_nhl[\"win_loss\"] = local_nhl[\"W\"] / (local_nhl[\"W\"] + local_nhl[\"L\"])\n",
    "    local_nhl = local_nhl[[\"team\", \"win_loss\"]]\n",
    "    #print(local_nhl.head(30))\n",
    "    \n",
    "    local_cities = cities.copy()\n",
    "    local_cities = local_cities.replace(r\"(\\[.*\\])\", \"\", regex=True).replace(r\"(\\s*\\—\\s*)\", \"\", regex=True).replace(\"\", np.nan)\n",
    "    \n",
    "    def team_list(team_string):\n",
    "        team_pattern = \"((?:[0-9]+|[A-Z])[a-z]+(?:\\s(?:[0-9]+|[A-Z])[a-z]+)*)\"\n",
    "        return list(re.findall(team_pattern, team_string))\n",
    "    \n",
    "    local_cities[\"NHL\"] = local_cities[\"NHL\"].apply(lambda x: team_list(x) if not pd.isna(x) else np.nan)\n",
    "    local_cities = local_cities.explode(\"NHL\").reset_index(drop=True)\n",
    "    local_cities.drop([\"NFL\", \"MLB\", \"NBA\"], axis=1, inplace=True)\n",
    "    local_cities.dropna(subset=[\"NHL\"], how=\"all\", inplace=True, axis=0)\n",
    "    #print(local_cities)\n",
    "    \n",
    "    known_teams = list(local_cities[~pd.isna(local_cities[\"NHL\"])][\"NHL\"])\n",
    "    local_nhl[\"team_name\"] = local_nhl[\"team\"].apply(lambda x: [y for y in known_teams if y in x])\n",
    "    local_nhl[\"team_name\"] = local_nhl[\"team_name\"].apply(lambda x: x[0])\n",
    "    \n",
    "    merged_df = local_cities.merge(local_nhl, left_on=\"NHL\", right_on=\"team_name\", how=\"left\")\n",
    "    merged_df[\"Population (2016 est.)[8]\"] = merged_df[\"Population (2016 est.)[8]\"].astype(int)\n",
    "    \n",
    "    result_df = merged_df.groupby(\"Metropolitan area\").agg({\"Population (2016 est.)[8]\": \"mean\", \"win_loss\": \"mean\"})\n",
    "    # print(merged_df[[\"Metropolitan area\", \"Population (2016 est.)[8]\", \"win_loss\"]])\n",
    "    # print(result_df)\n",
    "    \n",
    "    population_by_region = result_df[\"Population (2016 est.)[8]\"] # pass in metropolitan area population from cities\n",
    "    win_loss_by_region = result_df[\"win_loss\"] # pass in win/loss ratio from nhl_df in the same order as cities[\"Metropolitan area\"]\n",
    "    \n",
    "    assert len(population_by_region) == len(win_loss_by_region), \"Q1: Your lists must be the same length\"\n",
    "    assert len(population_by_region) == 28, \"Q1: There should be 28 teams being analysed for NHL\"\n",
    "    \n",
    "    return stats.pearsonr(population_by_region, win_loss_by_region)[0]"
   ]
  },
  {
   "cell_type": "code",
   "execution_count": null,
   "metadata": {
    "deletable": false,
    "editable": false,
    "nbgrader": {
     "checksum": "52a581df513c71153e105b93764cda4b",
     "grade": true,
     "grade_id": "cell-ebe0b2dfe1067e63",
     "locked": true,
     "points": 20,
     "schema_version": 1,
     "solution": false
    }
   },
   "outputs": [],
   "source": []
  },
  {
   "cell_type": "markdown",
   "metadata": {
    "deletable": false,
    "editable": false,
    "nbgrader": {
     "checksum": "988912cae4968d81473f46d783e79c16",
     "grade": false,
     "grade_id": "cell-cb964e690298b71d",
     "locked": true,
     "schema_version": 1,
     "solution": false
    }
   },
   "source": [
    "## Question 2\n",
    "For this question, calculate the win/loss ratio's correlation with the population of the city it is in for the **NBA** using **2018** data."
   ]
  },
  {
   "cell_type": "code",
   "execution_count": 15,
   "metadata": {
    "deletable": false,
    "nbgrader": {
     "checksum": "9394222aafc8ccab0a228098ba0d6010",
     "grade": false,
     "grade_id": "cell-5a5f21279e3d3572",
     "locked": false,
     "schema_version": 1,
     "solution": true
    }
   },
   "outputs": [],
   "source": [
    "import pandas as pd\n",
    "import numpy as np\n",
    "import scipy.stats as stats\n",
    "import re\n",
    "\n",
    "nba_df=pd.read_csv(\"assets/nba.csv\")\n",
    "cities=pd.read_html(\"assets/wikipedia_data.html\")[1]\n",
    "cities=cities.iloc[:-1,[0,3,5,6,7,8]]\n",
    "\n",
    "def nba_correlation():\n",
    "    local_nba = nba_df.copy()\n",
    "    local_nba = local_nba[(~local_nba[\"team\"].str.contains(\"Division\")) & (local_nba[\"year\"].eq(2018))]\n",
    "    local_nba[\"team\"] = local_nba[\"team\"].replace(\"\\s\\(.*\\)\", \"\", regex=True).str.replace(\"*\", \"\")\n",
    "    local_nba[[\"W\", \"L\"]] = local_nba[[\"W\", \"L\"]].astype(int)\n",
    "    local_nba[\"win_loss\"] = local_nba[\"W\"] / (local_nba[\"W\"] + local_nba[\"L\"])\n",
    "    local_nba = local_nba[[\"team\", \"win_loss\"]]\n",
    "    # print(local_nba.head(30))\n",
    "\n",
    "    local_cities = cities.copy()\n",
    "    local_cities = local_cities.replace(r\"(\\[.*\\])\", \"\", regex=True).replace(r\"(\\s*\\—\\s*)\", \"\", regex=True).replace(\"\", np.nan)\n",
    "    \n",
    "    def team_list(team_string):\n",
    "        team_pattern = \"((?:[0-9]+|[A-Z])[a-z]+(?:\\s(?:[0-9]+|[A-Z])[a-z]+)*)\"\n",
    "        return list(re.findall(team_pattern, team_string))\n",
    "    \n",
    "    local_cities[\"NBA\"] = local_cities[\"NBA\"].apply(lambda x: team_list(x) if not pd.isna(x) else np.nan)\n",
    "    local_cities = local_cities.explode(\"NBA\").reset_index(drop=True)\n",
    "    local_cities.drop([\"NFL\", \"MLB\", \"NHL\"], axis=1, inplace=True)\n",
    "    local_cities.dropna(subset=[\"NBA\"], how=\"all\", inplace=True, axis=0)\n",
    "    # print(local_cities)\n",
    "    \n",
    "    known_teams = list(local_cities[~pd.isna(local_cities[\"NBA\"])][\"NBA\"])\n",
    "    local_nba[\"team_name\"] = local_nba[\"team\"].apply(lambda x: [y for y in known_teams if y in x])\n",
    "    local_nba[\"team_name\"] = local_nba[\"team_name\"].apply(lambda x: x[0])\n",
    "    \n",
    "    merged_df = local_cities.merge(local_nba, left_on=\"NBA\", right_on=\"team_name\", how=\"left\")\n",
    "    merged_df[\"Population (2016 est.)[8]\"] = merged_df[\"Population (2016 est.)[8]\"].astype(int)\n",
    "    \n",
    "    result_df = merged_df.groupby(\"Metropolitan area\").agg({\"Population (2016 est.)[8]\": \"mean\", \"win_loss\": \"mean\"})\n",
    "    # print(merged_df[[\"Metropolitan area\", \"Population (2016 est.)[8]\", \"win_loss\", \"team\"]])\n",
    "    # print(result_df)\n",
    "        \n",
    "    population_by_region = result_df[\"Population (2016 est.)[8]\"] # pass in metropolitan area population from cities\n",
    "    win_loss_by_region = result_df[\"win_loss\"] # pass in win/loss ratio from nba_df in the same order as cities[\"Metropolitan area\"]\n",
    "\n",
    "    assert len(population_by_region) == len(win_loss_by_region), \"Q2: Your lists must be the same length\"\n",
    "    assert len(population_by_region) == 28, \"Q2: There should be 28 teams being analysed for NBA\"\n",
    "\n",
    "    return stats.pearsonr(population_by_region, win_loss_by_region)[0]"
   ]
  },
  {
   "cell_type": "code",
   "execution_count": null,
   "metadata": {
    "deletable": false,
    "editable": false,
    "nbgrader": {
     "checksum": "bbdeb8eb22f525a34c10dc8798324e42",
     "grade": true,
     "grade_id": "cell-e573b2b4a282b470",
     "locked": true,
     "points": 20,
     "schema_version": 1,
     "solution": false
    }
   },
   "outputs": [],
   "source": []
  },
  {
   "cell_type": "markdown",
   "metadata": {
    "deletable": false,
    "editable": false,
    "nbgrader": {
     "checksum": "1a1a5809f675ca033086422007cd73bd",
     "grade": false,
     "grade_id": "cell-96e15e4335df78f4",
     "locked": true,
     "schema_version": 1,
     "solution": false
    }
   },
   "source": [
    "## Question 3\n",
    "For this question, calculate the win/loss ratio's correlation with the population of the city it is in for the **MLB** using **2018** data."
   ]
  },
  {
   "cell_type": "code",
   "execution_count": 16,
   "metadata": {
    "deletable": false,
    "nbgrader": {
     "checksum": "27e8c0da6c9fa0dffc10488314335b6c",
     "grade": false,
     "grade_id": "cell-33b00fc3f3467b0c",
     "locked": false,
     "schema_version": 1,
     "solution": true
    }
   },
   "outputs": [],
   "source": [
    "import pandas as pd\n",
    "import numpy as np\n",
    "import scipy.stats as stats\n",
    "import re\n",
    "\n",
    "mlb_df=pd.read_csv(\"assets/mlb.csv\")\n",
    "cities=pd.read_html(\"assets/wikipedia_data.html\")[1]\n",
    "cities=cities.iloc[:-1,[0,3,5,6,7,8]]\n",
    "\n",
    "def mlb_correlation(): \n",
    "    local_mlb = mlb_df.copy()\n",
    "    local_mlb = local_mlb[(~local_mlb[\"team\"].str.contains(\"Division\")) & (local_mlb[\"year\"].eq(2018))]\n",
    "    local_mlb[\"team\"] = local_mlb[\"team\"].replace(\"\\s\\(.*\\)\", \"\", regex=True).str.replace(\"*\", \"\")\n",
    "    local_mlb[[\"W\", \"L\"]] = local_mlb[[\"W\", \"L\"]].astype(int)\n",
    "    local_mlb[\"win_loss\"] = local_mlb[\"W\"] / (local_mlb[\"W\"] + local_mlb[\"L\"])\n",
    "    local_mlb = local_mlb[[\"team\", \"win_loss\"]]\n",
    "    # print(local_mlb.head(30))\n",
    "\n",
    "    local_cities = cities.copy()\n",
    "    local_cities = local_cities.replace(r\"(\\[.*\\])\", \"\", regex=True).replace(r\"(\\s*\\—\\s*)\", \"\", regex=True).replace(\"\", np.nan)\n",
    "    \n",
    "    def team_list(team_string):\n",
    "        team_pattern = \"((?:[0-9]+|[A-Z])[a-z]+(?:\\s(?:[0-9]+|[A-Z])[a-z]+)*)\"\n",
    "        return list(re.findall(team_pattern, team_string))\n",
    "    \n",
    "    local_cities[\"MLB\"] = local_cities[\"MLB\"].apply(lambda x: team_list(x) if not pd.isna(x) else np.nan)\n",
    "    local_cities = local_cities.explode(\"MLB\").reset_index(drop=True)\n",
    "    local_cities.drop([\"NFL\", \"NBA\", \"NHL\"], axis=1, inplace=True)\n",
    "    local_cities.dropna(subset=[\"MLB\"], how=\"all\", inplace=True, axis=0)\n",
    "    # print(local_cities)\n",
    "    \n",
    "    known_teams = list(local_cities[~pd.isna(local_cities[\"MLB\"])][\"MLB\"])\n",
    "    local_mlb[\"team_name\"] = local_mlb[\"team\"].apply(lambda x: [y for y in known_teams if y in x])\n",
    "    local_mlb[\"team_name\"] = local_mlb[\"team_name\"].apply(lambda x: x[0])\n",
    "    \n",
    "    merged_df = local_cities.merge(local_mlb, left_on=\"MLB\", right_on=\"team_name\", how=\"left\")\n",
    "    merged_df[\"Population (2016 est.)[8]\"] = merged_df[\"Population (2016 est.)[8]\"].astype(int)\n",
    "    \n",
    "    result_df = merged_df.groupby(\"Metropolitan area\").agg({\"Population (2016 est.)[8]\": \"mean\", \"win_loss\": \"mean\"})\n",
    "    # print(merged_df[[\"Metropolitan area\", \"Population (2016 est.)[8]\", \"win_loss\"]])\n",
    "    # print(result_df)\n",
    "    \n",
    "    population_by_region = result_df[\"Population (2016 est.)[8]\"] # pass in metropolitan area population from cities\n",
    "    win_loss_by_region = result_df[\"win_loss\"] # pass in win/loss ratio from mlb_df in the same order as cities[\"Metropolitan area\"]\n",
    "\n",
    "    assert len(population_by_region) == len(win_loss_by_region), \"Q3: Your lists must be the same length\"\n",
    "    assert len(population_by_region) == 26, \"Q3: There should be 26 teams being analysed for MLB\"\n",
    "\n",
    "    return stats.pearsonr(population_by_region, win_loss_by_region)[0]"
   ]
  },
  {
   "cell_type": "code",
   "execution_count": null,
   "metadata": {
    "deletable": false,
    "editable": false,
    "nbgrader": {
     "checksum": "cda33b094ba19ccc37a481e0dd29e0bc",
     "grade": true,
     "grade_id": "cell-764d4476f425c5a2",
     "locked": true,
     "points": 20,
     "schema_version": 1,
     "solution": false
    }
   },
   "outputs": [],
   "source": []
  },
  {
   "cell_type": "markdown",
   "metadata": {
    "deletable": false,
    "editable": false,
    "nbgrader": {
     "checksum": "6977a6da9ed6d8b7a0b7e37bbeda709b",
     "grade": false,
     "grade_id": "cell-793df6c04dfb126e",
     "locked": true,
     "schema_version": 1,
     "solution": false
    }
   },
   "source": [
    "## Question 4\n",
    "For this question, calculate the win/loss ratio's correlation with the population of the city it is in for the **NFL** using **2018** data."
   ]
  },
  {
   "cell_type": "code",
   "execution_count": 17,
   "metadata": {
    "deletable": false,
    "nbgrader": {
     "checksum": "c4914ad1e119278ec2bd567c52640b66",
     "grade": false,
     "grade_id": "cell-8ccebc209aeec8d9",
     "locked": false,
     "schema_version": 1,
     "solution": true
    }
   },
   "outputs": [],
   "source": [
    "import pandas as pd\n",
    "import numpy as np\n",
    "import scipy.stats as stats\n",
    "import re\n",
    "\n",
    "nfl_df=pd.read_csv(\"assets/nfl.csv\")\n",
    "cities=pd.read_html(\"assets/wikipedia_data.html\")[1]\n",
    "cities=cities.iloc[:-1,[0,3,5,6,7,8]]\n",
    "\n",
    "def nfl_correlation(): \n",
    "    local_nfl = nfl_df.copy()\n",
    "    local_nfl = local_nfl[(~local_nfl[\"team\"].str.contains(\"AFC|NFC\")) & (local_nfl[\"year\"].eq(2018))]\n",
    "    local_nfl[\"team\"] = local_nfl[\"team\"].replace(\"\\s\\(.*\\)\", \"\", regex=True).str.replace(\"\\+|\\*\", \"\")\n",
    "    local_nfl[[\"W\", \"L\"]] = local_nfl[[\"W\", \"L\"]].astype(int)\n",
    "    local_nfl[\"win_loss\"] = local_nfl[\"W\"] / (local_nfl[\"W\"] + local_nfl[\"L\"])\n",
    "    local_nfl = local_nfl[[\"team\", \"win_loss\"]]\n",
    "    # print(local_nfl.head(30))\n",
    "\n",
    "    local_cities = cities.copy()\n",
    "    local_cities = local_cities.replace(r\"(\\[.*\\])\", \"\", regex=True).replace(r\"(\\s*\\—\\s*)\", \"\", regex=True).replace(\"\", np.nan)\n",
    "    \n",
    "    def team_list(team_string):\n",
    "        team_pattern = \"((?:[0-9]+|[A-Z])[a-z]+(?:\\s(?:[0-9]+|[A-Z])[a-z]+)*)\"\n",
    "        return list(re.findall(team_pattern, team_string))\n",
    "    \n",
    "    local_cities[\"NFL\"] = local_cities[\"NFL\"].apply(lambda x: team_list(x) if not pd.isna(x) else np.nan)\n",
    "    local_cities = local_cities.explode(\"NFL\").reset_index(drop=True)\n",
    "    local_cities.drop([\"MLB\", \"NBA\", \"NHL\"], axis=1, inplace=True)\n",
    "    local_cities.dropna(subset=[\"NFL\"], how=\"all\", inplace=True, axis=0)\n",
    "    # print(cities)\n",
    "    \n",
    "    known_teams = list(local_cities[~pd.isna(local_cities[\"NFL\"])][\"NFL\"])\n",
    "    local_nfl[\"team_name\"] = local_nfl[\"team\"].apply(lambda x: [y for y in known_teams if y in x])\n",
    "    local_nfl[\"team_name\"] = local_nfl[\"team_name\"].apply(lambda x: x[0])\n",
    "    \n",
    "    merged_df = local_cities.merge(local_nfl, left_on=\"NFL\", right_on=\"team_name\", how=\"left\")\n",
    "    merged_df[\"Population (2016 est.)[8]\"] = merged_df[\"Population (2016 est.)[8]\"].astype(int)\n",
    "    \n",
    "    result_df = merged_df.groupby(\"Metropolitan area\").agg({\"Population (2016 est.)[8]\": \"mean\", \"win_loss\": \"mean\"})\n",
    "    # print(merged_df[[\"Metropolitan area\", \"Population (2016 est.)[8]\", \"win_loss\"]])\n",
    "    # print(result_df)\n",
    "    \n",
    "    population_by_region = result_df[\"Population (2016 est.)[8]\"] # pass in metropolitan area population from cities\n",
    "    win_loss_by_region = result_df[\"win_loss\"] # pass in win/loss ratio from nfl_df in the same order as cities[\"Metropolitan area\"]\n",
    "\n",
    "    assert len(population_by_region) == len(win_loss_by_region), \"Q4: Your lists must be the same length\"\n",
    "    assert len(population_by_region) == 29, \"Q4: There should be 29 teams being analysed for NFL\"\n",
    "\n",
    "    return stats.pearsonr(population_by_region, win_loss_by_region)[0]"
   ]
  },
  {
   "cell_type": "code",
   "execution_count": null,
   "metadata": {
    "deletable": false,
    "editable": false,
    "nbgrader": {
     "checksum": "e9415d6399aa49e3a1a60813afdefa3b",
     "grade": true,
     "grade_id": "cell-de7b148b9554dbda",
     "locked": true,
     "points": 20,
     "schema_version": 1,
     "solution": false
    }
   },
   "outputs": [],
   "source": []
  },
  {
   "cell_type": "markdown",
   "metadata": {
    "deletable": false,
    "editable": false,
    "nbgrader": {
     "checksum": "b02d5cd3273f561e4ae939bb2a41740c",
     "grade": false,
     "grade_id": "cell-97b49d8639e908c4",
     "locked": true,
     "schema_version": 1,
     "solution": false
    }
   },
   "source": [
    "## Question 5\n",
    "In this question I would like you to explore the hypothesis that **given that an area has two sports teams in different sports, those teams will perform the same within their respective sports**. How I would like to see this explored is with a series of paired t-tests (so use [`ttest_rel`](https://docs.scipy.org/doc/scipy/reference/generated/scipy.stats.ttest_rel.html)) between all pairs of sports. Are there any sports where we can reject the null hypothesis? Again, average values where a sport has multiple teams in one region. Remember, you will only be including, for each sport, cities which have teams engaged in that sport, drop others as appropriate. This question is worth 20% of the grade for this assignment."
   ]
  },
  {
   "cell_type": "code",
   "execution_count": 18,
   "metadata": {
    "deletable": false,
    "nbgrader": {
     "checksum": "6d78c961eb66f8d8c81f06d33ae8f393",
     "grade": false,
     "grade_id": "cell-92f25f44b8d1179f",
     "locked": false,
     "schema_version": 1,
     "solution": true
    }
   },
   "outputs": [
    {
     "data": {
      "text/html": [
       "<div>\n",
       "<style scoped>\n",
       "    .dataframe tbody tr th:only-of-type {\n",
       "        vertical-align: middle;\n",
       "    }\n",
       "\n",
       "    .dataframe tbody tr th {\n",
       "        vertical-align: top;\n",
       "    }\n",
       "\n",
       "    .dataframe thead th {\n",
       "        text-align: right;\n",
       "    }\n",
       "</style>\n",
       "<table border=\"1\" class=\"dataframe\">\n",
       "  <thead>\n",
       "    <tr style=\"text-align: right;\">\n",
       "      <th></th>\n",
       "      <th>NFL</th>\n",
       "      <th>NBA</th>\n",
       "      <th>NHL</th>\n",
       "      <th>MLB</th>\n",
       "    </tr>\n",
       "  </thead>\n",
       "  <tbody>\n",
       "    <tr>\n",
       "      <th>NFL</th>\n",
       "      <td>NaN</td>\n",
       "      <td>0.941792</td>\n",
       "      <td>0.030883</td>\n",
       "      <td>0.802069</td>\n",
       "    </tr>\n",
       "    <tr>\n",
       "      <th>NBA</th>\n",
       "      <td>0.941792</td>\n",
       "      <td>NaN</td>\n",
       "      <td>0.022297</td>\n",
       "      <td>0.950540</td>\n",
       "    </tr>\n",
       "    <tr>\n",
       "      <th>NHL</th>\n",
       "      <td>0.030883</td>\n",
       "      <td>0.022297</td>\n",
       "      <td>NaN</td>\n",
       "      <td>0.000708</td>\n",
       "    </tr>\n",
       "    <tr>\n",
       "      <th>MLB</th>\n",
       "      <td>0.802069</td>\n",
       "      <td>0.950540</td>\n",
       "      <td>0.000708</td>\n",
       "      <td>NaN</td>\n",
       "    </tr>\n",
       "  </tbody>\n",
       "</table>\n",
       "</div>"
      ],
      "text/plain": [
       "          NFL       NBA       NHL       MLB\n",
       "NFL       NaN  0.941792  0.030883  0.802069\n",
       "NBA  0.941792       NaN  0.022297  0.950540\n",
       "NHL  0.030883  0.022297       NaN  0.000708\n",
       "MLB  0.802069  0.950540  0.000708       NaN"
      ]
     },
     "execution_count": 18,
     "metadata": {},
     "output_type": "execute_result"
    }
   ],
   "source": [
    "import pandas as pd\n",
    "import numpy as np\n",
    "import scipy.stats as stats\n",
    "import re\n",
    "\n",
    "mlb_df=pd.read_csv(\"assets/mlb.csv\")\n",
    "nhl_df=pd.read_csv(\"assets/nhl.csv\")\n",
    "nba_df=pd.read_csv(\"assets/nba.csv\")\n",
    "nfl_df=pd.read_csv(\"assets/nfl.csv\")\n",
    "cities=pd.read_html(\"assets/wikipedia_data.html\")[1]\n",
    "cities=cities.iloc[:-1,[0,3,5,6,7,8]]\n",
    "\n",
    "def sports_team_performance():\n",
    "    local_nhl = nhl_df.copy()\n",
    "    local_nhl = local_nhl[(~local_nhl[\"team\"].str.contains(\"Division\")) & (local_nhl[\"year\"].eq(2018))]\n",
    "    local_nhl[\"team\"] = local_nhl[\"team\"].str.replace(\"*\", \"\")\n",
    "    local_nhl[[\"W\", \"L\"]] = local_nhl[[\"W\", \"L\"]].astype(int)\n",
    "    local_nhl[\"win_loss\"] = local_nhl[\"W\"] / (local_nhl[\"W\"] + local_nhl[\"L\"])\n",
    "    local_nhl = local_nhl[[\"team\", \"win_loss\"]]\n",
    "    #print(local_nhl.head(30))\n",
    "    \n",
    "    local_nba = nba_df.copy()\n",
    "    local_nba = local_nba[(~local_nba[\"team\"].str.contains(\"Division\")) & (local_nba[\"year\"].eq(2018))]\n",
    "    local_nba[\"team\"] = local_nba[\"team\"].replace(\"\\s\\(.*\\)\", \"\", regex=True).str.replace(\"*\", \"\")\n",
    "    local_nba[[\"W\", \"L\"]] = local_nba[[\"W\", \"L\"]].astype(int)\n",
    "    local_nba[\"win_loss\"] = local_nba[\"W\"] / (local_nba[\"W\"] + local_nba[\"L\"])\n",
    "    local_nba = local_nba[[\"team\", \"win_loss\"]]\n",
    "    # print(local_nba.head(30))\n",
    "\n",
    "    local_mlb = mlb_df.copy()\n",
    "    local_mlb = local_mlb[(~mlb_df[\"team\"].str.contains(\"Division\")) & (local_mlb[\"year\"].eq(2018))]\n",
    "    local_mlb[\"team\"] = local_mlb[\"team\"].replace(\"\\s\\(.*\\)\", \"\", regex=True).str.replace(\"*\", \"\")\n",
    "    local_mlb[[\"W\", \"L\"]] = local_mlb[[\"W\", \"L\"]].astype(int)\n",
    "    local_mlb[\"win_loss\"] = local_mlb[\"W\"] / (local_mlb[\"W\"] + local_mlb[\"L\"])\n",
    "    local_mlb = local_mlb[[\"team\", \"win_loss\"]]\n",
    "    # print(local_mlb.head(30))\n",
    "\n",
    "    local_nfl = nfl_df.copy()\n",
    "    local_nfl = local_nfl[(~local_nfl[\"team\"].str.contains(\"AFC|NFC\")) & (local_nfl[\"year\"].eq(2018))]\n",
    "    local_nfl[\"team\"] = local_nfl[\"team\"].replace(\"\\s\\(.*\\)\", \"\", regex=True).str.replace(\"\\+|\\*\", \"\")\n",
    "    local_nfl[[\"W\", \"L\"]] = local_nfl[[\"W\", \"L\"]].astype(int)\n",
    "    local_nfl[\"win_loss\"] = local_nfl[\"W\"] / (local_nfl[\"W\"] + local_nfl[\"L\"])\n",
    "    local_nfl = local_nfl[[\"team\", \"win_loss\"]]\n",
    "    # print(local_nfl.head(30))\n",
    "\n",
    "    sport_df_dict = {\n",
    "        \"NFL\": local_nfl,\n",
    "        \"NBA\": local_nba,\n",
    "        \"NHL\": local_nhl,\n",
    "        \"MLB\": local_mlb\n",
    "    }\n",
    "        \n",
    "    local_cities = cities.copy()\n",
    "    local_cities = local_cities.replace(r\"(\\[.*\\])\", \"\", regex=True).replace(r\"(\\s*\\—\\s*)\", \"\", regex=True).replace(\"\", np.nan)\n",
    "    \n",
    "    def team_list(team_string):\n",
    "        team_pattern = \"((?:[0-9]+|[A-Z])[a-z]+(?:\\s(?:[0-9]+|[A-Z])[a-z]+)*)\"\n",
    "        return list(re.findall(team_pattern, team_string))\n",
    "    \n",
    "    sports = ['NFL', 'NBA', 'NHL', 'MLB']\n",
    "    full_df = pd.DataFrame(index=local_cities[\"Metropolitan area\"])\n",
    "\n",
    "    for sport in sports:\n",
    "        sport_cities = local_cities.copy()\n",
    "        sport_cities[sport] = sport_cities[sport].apply(lambda x: team_list(x) if not pd.isna(x) else np.nan)\n",
    "        sport_cities = sport_cities.explode(sport).reset_index(drop=True)\n",
    "        sport_cities.drop([x for x in sports if x != sport], axis=1, inplace=True)\n",
    "        sport_cities.dropna(subset=[sport], how=\"all\", inplace=True, axis=0)\n",
    "        \n",
    "        known_teams = list(sport_cities[~pd.isna(sport_cities[sport])][sport])\n",
    "        sport_df_dict[sport][\"team_name\"] = sport_df_dict[sport][\"team\"].apply(lambda x: [y for y in known_teams if y in x])\n",
    "        sport_df_dict[sport][\"team_name\"] = sport_df_dict[sport][\"team_name\"].apply(lambda x: x[0])\n",
    "        \n",
    "        sport_cities = sport_cities.merge(sport_df_dict[sport], left_on=sport, right_on=\"team_name\", how=\"left\")\n",
    "        result_df = sport_cities.groupby(\"Metropolitan area\").agg({\"win_loss\": \"mean\"})\n",
    "\n",
    "        full_df = full_df.merge(result_df, left_index=True, right_index=True, how=\"outer\")\n",
    "        full_df.rename({\"win_loss\": sport}, axis=1, inplace=True)\n",
    "        \n",
    "    # print(full_df)\n",
    "    p_values_dict = {}\n",
    "    for sport1 in sports:\n",
    "        p_values_dict[sport1] = {}\n",
    "        sport1_df = full_df.dropna(subset=[sport1], axis=0, how=\"all\")\n",
    "        for sport2 in sports:\n",
    "            if sport1 == sport2:\n",
    "                p_values_dict[sport1][sport2] = np.nan\n",
    "            else:\n",
    "                sport12_df = sport1_df.dropna(subset=[sport2], axis=0, how=\"all\")\n",
    "                p_values_dict[sport1][sport2] = stats.ttest_rel(sport12_df[sport1], sport12_df[sport2])[1]\n",
    "    \n",
    "    p_values = pd.DataFrame.from_dict(p_values_dict)\n",
    "\n",
    "    assert abs(p_values.loc[\"NBA\", \"NHL\"] - 0.02) <= 1e-2, \"The NBA-NHL p-value should be around 0.02\"\n",
    "    assert abs(p_values.loc[\"MLB\", \"NFL\"] - 0.80) <= 1e-2, \"The MLB-NFL p-value should be around 0.80\"\n",
    "    return p_values\n",
    "sports_team_performance()"
   ]
  },
  {
   "cell_type": "code",
   "execution_count": null,
   "metadata": {
    "deletable": false,
    "editable": false,
    "nbgrader": {
     "checksum": "2a596ab421a45cc01168d10e8fbb8f89",
     "grade": true,
     "grade_id": "cell-fb4b9cb5ff4570a6",
     "locked": true,
     "points": 20,
     "schema_version": 1,
     "solution": false
    }
   },
   "outputs": [],
   "source": []
  }
 ],
 "metadata": {
  "coursera": {
   "schema_names": [
    "mooc_adswpy_1_v2_assignment4"
   ]
  },
  "kernelspec": {
   "display_name": "Python 3",
   "language": "python",
   "name": "python3"
  },
  "language_info": {
   "codemirror_mode": {
    "name": "ipython",
    "version": 3
   },
   "file_extension": ".py",
   "mimetype": "text/x-python",
   "name": "python",
   "nbconvert_exporter": "python",
   "pygments_lexer": "ipython3",
   "version": "3.7.3"
  }
 },
 "nbformat": 4,
 "nbformat_minor": 4
}
